{
 "cells": [
  {
   "cell_type": "code",
   "execution_count": 177,
   "metadata": {},
   "outputs": [],
   "source": [
    "from math import *\n",
    "from random import randint"
   ]
  },
  {
   "cell_type": "code",
   "execution_count": 178,
   "metadata": {},
   "outputs": [],
   "source": [
    "class Arbre():\n",
    "    def __init__(self, valeur, parent) -> None:\n",
    "        \"\"\"\n",
    "        Methode qui est intialisée à chaque instance\n",
    "        : param valeur (int) : Valeur de l'instance\n",
    "        : param parent (Arbre) : Parent du noeud\n",
    "        \"\"\"\n",
    "        self.valeur = valeur\n",
    "        self.parent = parent\n",
    "        self.enfants = []\n",
    "\n",
    "    def ajouter_enfant(self, enfant):\n",
    "        \"\"\"\n",
    "        Methode qui ajoute un enfant à l'instance\n",
    "        : param enfant (Arbre) : L'enfant à ajouter\n",
    "        \"\"\"\n",
    "        self.enfants.append(enfant)\n",
    "\n",
    "    def est_feuille(self):\n",
    "        \"\"\"\n",
    "        Methode qui renvoie Vrai ou Faux si l'instance ne possède pas d'enfants\n",
    "        \"\"\"\n",
    "        if len(self.enfant) == 0:\n",
    "            return True\n",
    "        else:\n",
    "            return False\n",
    "    \n",
    "    def quelle_hauteur(self):\n",
    "        \"\"\"\n",
    "        Methode qui renvoie la hauteur de branche de l'instance\n",
    "        : return hauteur (int) : Hauteur de branche\n",
    "        \"\"\"\n",
    "        hauteur = 0\n",
    "        for i in range(len(self.enfants)):\n",
    "            enfant = self.enfants[i]\n",
    "            print(enfant)\n",
    "            hauteur_enfant = 1 + enfant.quelle_hauteur()\n",
    "            if hauteur_enfant > hauteur:\n",
    "                hauteur = hauteur_enfant\n",
    "        return hauteur\n",
    "    \n",
    "    def obtenir_points_dans_chemin(self):\n",
    "        \"\"\"\n",
    "        Methode qui retourne les points qui se sont pas encore dans la branche\n",
    "        : return points (list) : Liste des points restants\n",
    "        \"\"\"\n",
    "        if self.parent == None:\n",
    "            return [self.valeur]\n",
    "        else:\n",
    "            points = []\n",
    "            for elt in self.parent.obtenir_points_dans_chemin():\n",
    "                points.append(elt)\n",
    "            points.append(self.valeur)\n",
    "            return points"
   ]
  },
  {
   "cell_type": "code",
   "execution_count": 179,
   "metadata": {},
   "outputs": [],
   "source": [
    "def calculer_distance(point_A, point_B):\n",
    "    \"\"\"\n",
    "    Fonction qui calcule une distance euclidienne\n",
    "    : param point_A (tuple) : Coordonnées x, y du premier point\n",
    "    : param point_B (tuple) : Coordonnées x, y du deuxième point\n",
    "    : return (float) : Distance\n",
    "    \"\"\"\n",
    "    return sqrt((point_A[0] - point_B[0])**2 + (point_A[1] - point_B[1])**2)"
   ]
  },
  {
   "cell_type": "code",
   "execution_count": 180,
   "metadata": {},
   "outputs": [],
   "source": [
    "def calculer_longueur_chemin(chemin, coord_chemin):\n",
    "    \"\"\"\n",
    "    Fonction qui calcule la distance totale d'un chemin\n",
    "    : param chemin (list) : Liste de points\n",
    "    : param coord_chemin (list) : Liste des coordonnées des points\n",
    "    : return (int) : Distance Totale\n",
    "    \"\"\"\n",
    "    distance_chemin = 0\n",
    "    for point in range(1, len(chemin)):\n",
    "        distance_chemin += calculer_distance(coord_chemin[point], coord_chemin[point-1])\n",
    "    return distance_chemin"
   ]
  },
  {
   "cell_type": "code",
   "execution_count": 181,
   "metadata": {},
   "outputs": [],
   "source": [
    "def obtenir_points_non_visites(points_a_visiter, points_visites):\n",
    "    \"\"\"\n",
    "    Fonction qui renvoie les points pas encore visités\n",
    "    : param points_a_visiter (list) : Liste de tous les points à visiter\n",
    "    : param points_visites (list) : Liste des points déjà visités\n",
    "    : return (list) : Les points pas encore visités\n",
    "    \"\"\"\n",
    "    if len(points_a_visiter) == len(points_visites):\n",
    "        return []\n",
    "    else:\n",
    "        points_restants = []\n",
    "        for point in points_a_visiter:\n",
    "            if point not in points_visites:\n",
    "                points_restants.append(point)\n",
    "        return points_restants"
   ]
  },
  {
   "cell_type": "code",
   "execution_count": 182,
   "metadata": {},
   "outputs": [],
   "source": [
    "def creer_arbre(points):\n",
    "    \"\"\"\n",
    "    Fonction qui génére des instances de la class Arbre (Noeuds) et qui y ajoute les valeurs\n",
    "    : param points (list) : Liste des points\n",
    "    : return (Arbre) : L'Arbre généré\n",
    "    \"\"\"\n",
    "    racine = Arbre(0, None)\n",
    "    file = [racine]\n",
    "    while len(file) != 0:\n",
    "        elt_en_cours = file.pop(0)\n",
    "        points_restants = obtenir_points_non_visites(points, elt_en_cours.obtenir_points_dans_chemin())\n",
    "        for point in points_restants:\n",
    "            nouveau_noeud = Arbre(point, elt_en_cours)\n",
    "            elt_en_cours.ajouter_enfant(nouveau_noeud)\n",
    "            file.append(nouveau_noeud)\n",
    "    return racine"
   ]
  },
  {
   "cell_type": "code",
   "execution_count": 183,
   "metadata": {},
   "outputs": [],
   "source": [
    "points = [randint(0, 1000) for _ in range(9)]\n",
    "coord_chemin = [(randint(-1000, 1000), randint(-1000, 1000)) for _ in range(8)]"
   ]
  },
  {
   "cell_type": "code",
   "execution_count": 184,
   "metadata": {},
   "outputs": [],
   "source": [
    "mon_arbre = creer_arbre(points)"
   ]
  }
 ],
 "metadata": {
  "kernelspec": {
   "display_name": "Python 3.9.13 ('base')",
   "language": "python",
   "name": "python3"
  },
  "language_info": {
   "codemirror_mode": {
    "name": "ipython",
    "version": 3
   },
   "file_extension": ".py",
   "mimetype": "text/x-python",
   "name": "python",
   "nbconvert_exporter": "python",
   "pygments_lexer": "ipython3",
   "version": "3.9.13"
  },
  "orig_nbformat": 4,
  "vscode": {
   "interpreter": {
    "hash": "1596c6b9dbb35d779c934f15dc66093d022de10751e6f293f3995b2f249e3c2a"
   }
  }
 },
 "nbformat": 4,
 "nbformat_minor": 2
}
