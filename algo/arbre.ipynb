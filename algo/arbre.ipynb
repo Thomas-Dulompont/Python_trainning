{
 "cells": [
  {
   "cell_type": "code",
   "execution_count": 167,
   "metadata": {},
   "outputs": [],
   "source": [
    "from math import *\n",
    "from random import randint"
   ]
  },
  {
   "cell_type": "code",
   "execution_count": 168,
   "metadata": {},
   "outputs": [],
   "source": [
    "class Arbre():\n",
    "    def __init__(self, valeur, parent) -> None:\n",
    "        \"\"\"\n",
    "        Methode qui est intialisée à chaque instance\n",
    "        : param valeur (int) : Valeur de l'instance\n",
    "        : param parent (Arbre) : Parent du noeud\n",
    "        \"\"\"\n",
    "        self.valeur = valeur\n",
    "        self.parent = parent\n",
    "        self.enfants = []\n",
    "\n",
    "    def ajouter_enfant(self, enfant):\n",
    "        \"\"\"\n",
    "        Methode qui ajoute un enfant à l'instance\n",
    "        : param enfant (Arbre) : L'enfant à ajouter\n",
    "        \"\"\"\n",
    "        self.enfants.append(enfant)\n",
    "\n",
    "    def est_feuille(self):\n",
    "        \"\"\"\n",
    "        Methode qui renvoie Vrai ou Faux si l'instance ne possède pas d'enfants\n",
    "        \"\"\"\n",
    "        if len(self.enfants) == 0:\n",
    "            return True\n",
    "        else:\n",
    "            return False\n",
    "    \n",
    "    def quelle_hauteur(self):\n",
    "        \"\"\"\n",
    "        Methode qui renvoie la hauteur de branche de l'instance\n",
    "        : return hauteur (int) : Hauteur de branche\n",
    "        \"\"\"\n",
    "        hauteur = 0\n",
    "        for i in range(len(self.enfants)):\n",
    "            enfant = self.enfants[i]\n",
    "            print(enfant)\n",
    "            hauteur_enfant = 1 + enfant.quelle_hauteur()\n",
    "            if hauteur_enfant > hauteur:\n",
    "                hauteur = hauteur_enfant\n",
    "        return hauteur\n",
    "    \n",
    "    def obtenir_points_dans_chemin(self):\n",
    "        \"\"\"\n",
    "        Methode qui retourne les points qui sont déjà dans la branche\n",
    "        : return points (list) : Liste des points restants\n",
    "        \"\"\"\n",
    "        if self.parent == None:\n",
    "            return [self.valeur]\n",
    "        else:\n",
    "            points = []\n",
    "            for elt in self.parent.obtenir_points_dans_chemin():\n",
    "                points.append(elt)\n",
    "            points.append(self.valeur)\n",
    "            return points"
   ]
  },
  {
   "cell_type": "code",
   "execution_count": 169,
   "metadata": {},
   "outputs": [],
   "source": [
    "def calculer_distance(point_A, point_B):\n",
    "    \"\"\"\n",
    "    Fonction qui calcule une distance euclidienne\n",
    "    : param point_A (tuple) : Coordonnées x, y du premier point\n",
    "    : param point_B (tuple) : Coordonnées x, y du deuxième point\n",
    "    : return (float) : Distance\n",
    "    \"\"\"\n",
    "    return sqrt((point_A[0] - point_B[0])**2 + (point_A[1] - point_B[1])**2)"
   ]
  },
  {
   "cell_type": "code",
   "execution_count": 170,
   "metadata": {},
   "outputs": [],
   "source": [
    "def calculer_longueur_chemin(chemin, coord_chemin):\n",
    "    \"\"\"\n",
    "    Fonction qui calcule la distance totale d'un chemin\n",
    "    : param chemin (list) : Liste de points\n",
    "    : param coord_chemin (list) : Liste des coordonnées des points\n",
    "    : return (int) : Distance Totale\n",
    "    \"\"\"\n",
    "    distance_chemin = 0\n",
    "    for point in range(1, len(chemin)):\n",
    "        distance_chemin += calculer_distance(coord_chemin[point], coord_chemin[point-1])\n",
    "    return distance_chemin"
   ]
  },
  {
   "cell_type": "code",
   "execution_count": 171,
   "metadata": {},
   "outputs": [],
   "source": [
    "def obtenir_points_non_visites(points_a_visiter, points_visites):\n",
    "    \"\"\"\n",
    "    Fonction qui renvoie les points pas encore visités\n",
    "    : param points_a_visiter (list) : Liste de tous les points à visiter\n",
    "    : param points_visites (list) : Liste des points déjà visités\n",
    "    : return (list) : Les points pas encore visités\n",
    "    \"\"\"\n",
    "    if len(points_a_visiter) == len(points_visites):\n",
    "        return []\n",
    "    else:\n",
    "        points_restants = []\n",
    "        for point in points_a_visiter:\n",
    "            if point not in points_visites:\n",
    "                points_restants.append(point)\n",
    "        return points_restants"
   ]
  },
  {
   "cell_type": "code",
   "execution_count": 172,
   "metadata": {},
   "outputs": [],
   "source": [
    "def creer_arbre(points):\n",
    "    \"\"\"\n",
    "    Fonction qui génére des instances de la class Arbre (Noeuds) et qui y ajoute les valeurs\n",
    "    : param points (list) : Liste des points\n",
    "    : return (Arbre) : L'Arbre généré\n",
    "    \"\"\"\n",
    "    racine = Arbre(0, None)\n",
    "    file = [racine]\n",
    "    while len(file) != 0:\n",
    "        noeud_en_cours = file.pop(0)\n",
    "        points_restants = obtenir_points_non_visites(points, noeud_en_cours.obtenir_points_dans_chemin())\n",
    "        for point in points_restants:\n",
    "            nouveau_noeud = Arbre(point, noeud_en_cours)\n",
    "            noeud_en_cours.ajouter_enfant(nouveau_noeud)\n",
    "            file.append(nouveau_noeud)\n",
    "    return racine"
   ]
  },
  {
   "cell_type": "code",
   "execution_count": 173,
   "metadata": {},
   "outputs": [],
   "source": [
    "def creer_liste_chemins(racine):\n",
    "    file = [racine]\n",
    "    chemins = []\n",
    "    while len(file) != 0:\n",
    "        noeud_en_cours = file.pop(0)\n",
    "        if noeud_en_cours.est_feuille():\n",
    "            chemins.append(noeud_en_cours.obtenir_points_dans_chemin())\n",
    "        else:\n",
    "            for enfant in noeud_en_cours.enfants:\n",
    "                file.append(enfant)\n",
    "    return chemins\n"
   ]
  },
  {
   "cell_type": "code",
   "execution_count": 174,
   "metadata": {},
   "outputs": [],
   "source": [
    "def classement_chemin(chemins, coord_chemins):\n",
    "    scores = []\n",
    "    for index in range(len(chemins)):\n",
    "        scores.append(calculer_longueur_chemin(chemins[index], coord_chemins[index]))\n",
    "    \n",
    "    scores.sort()\n",
    "    return scores\n",
    "        "
   ]
  },
  {
   "cell_type": "code",
   "execution_count": 175,
   "metadata": {},
   "outputs": [],
   "source": [
    "points = [0, 1, 2, 3, 4, 5, 6, 7, 8]\n",
    "coord_chemins = [(randint(-1000, 1000), randint(-1000, 1000)) for _ in range(9)]"
   ]
  },
  {
   "cell_type": "code",
   "execution_count": 176,
   "metadata": {},
   "outputs": [
    {
     "ename": "TypeError",
     "evalue": "'int' object is not subscriptable",
     "output_type": "error",
     "traceback": [
      "\u001b[0;31m---------------------------------------------------------------------------\u001b[0m",
      "\u001b[0;31mTypeError\u001b[0m                                 Traceback (most recent call last)",
      "\u001b[1;32m/Users/thomasdulompont/Desktop/Python_trainning/algo/arbre.ipynb Cellule 10\u001b[0m in \u001b[0;36m<cell line: 5>\u001b[0;34m()\u001b[0m\n\u001b[1;32m      <a href='vscode-notebook-cell:/Users/thomasdulompont/Desktop/Python_trainning/algo/arbre.ipynb#X10sZmlsZQ%3D%3D?line=0'>1</a>\u001b[0m mon_arbre \u001b[39m=\u001b[39m creer_arbre(points)\n\u001b[1;32m      <a href='vscode-notebook-cell:/Users/thomasdulompont/Desktop/Python_trainning/algo/arbre.ipynb#X10sZmlsZQ%3D%3D?line=2'>3</a>\u001b[0m chemins \u001b[39m=\u001b[39m creer_liste_chemins(mon_arbre)\n\u001b[0;32m----> <a href='vscode-notebook-cell:/Users/thomasdulompont/Desktop/Python_trainning/algo/arbre.ipynb#X10sZmlsZQ%3D%3D?line=4'>5</a>\u001b[0m classement_chemin(chemins, coord_chemins)\n",
      "\u001b[1;32m/Users/thomasdulompont/Desktop/Python_trainning/algo/arbre.ipynb Cellule 10\u001b[0m in \u001b[0;36mclassement_chemin\u001b[0;34m(chemins, coord_chemins)\u001b[0m\n\u001b[1;32m      <a href='vscode-notebook-cell:/Users/thomasdulompont/Desktop/Python_trainning/algo/arbre.ipynb#X10sZmlsZQ%3D%3D?line=1'>2</a>\u001b[0m scores \u001b[39m=\u001b[39m []\n\u001b[1;32m      <a href='vscode-notebook-cell:/Users/thomasdulompont/Desktop/Python_trainning/algo/arbre.ipynb#X10sZmlsZQ%3D%3D?line=2'>3</a>\u001b[0m \u001b[39mfor\u001b[39;00m index \u001b[39min\u001b[39;00m \u001b[39mrange\u001b[39m(\u001b[39mlen\u001b[39m(chemins)):\n\u001b[0;32m----> <a href='vscode-notebook-cell:/Users/thomasdulompont/Desktop/Python_trainning/algo/arbre.ipynb#X10sZmlsZQ%3D%3D?line=3'>4</a>\u001b[0m     scores\u001b[39m.\u001b[39mappend(calculer_longueur_chemin(chemins[index], coord_chemins[index]))\n\u001b[1;32m      <a href='vscode-notebook-cell:/Users/thomasdulompont/Desktop/Python_trainning/algo/arbre.ipynb#X10sZmlsZQ%3D%3D?line=5'>6</a>\u001b[0m scores\u001b[39m.\u001b[39msort()\n\u001b[1;32m      <a href='vscode-notebook-cell:/Users/thomasdulompont/Desktop/Python_trainning/algo/arbre.ipynb#X10sZmlsZQ%3D%3D?line=6'>7</a>\u001b[0m \u001b[39mreturn\u001b[39;00m scores\n",
      "\u001b[1;32m/Users/thomasdulompont/Desktop/Python_trainning/algo/arbre.ipynb Cellule 10\u001b[0m in \u001b[0;36mcalculer_longueur_chemin\u001b[0;34m(chemin, coord_chemin)\u001b[0m\n\u001b[1;32m      <a href='vscode-notebook-cell:/Users/thomasdulompont/Desktop/Python_trainning/algo/arbre.ipynb#X10sZmlsZQ%3D%3D?line=7'>8</a>\u001b[0m distance_chemin \u001b[39m=\u001b[39m \u001b[39m0\u001b[39m\n\u001b[1;32m      <a href='vscode-notebook-cell:/Users/thomasdulompont/Desktop/Python_trainning/algo/arbre.ipynb#X10sZmlsZQ%3D%3D?line=8'>9</a>\u001b[0m \u001b[39mfor\u001b[39;00m point \u001b[39min\u001b[39;00m \u001b[39mrange\u001b[39m(\u001b[39m1\u001b[39m, \u001b[39mlen\u001b[39m(chemin)):\n\u001b[0;32m---> <a href='vscode-notebook-cell:/Users/thomasdulompont/Desktop/Python_trainning/algo/arbre.ipynb#X10sZmlsZQ%3D%3D?line=9'>10</a>\u001b[0m     distance_chemin \u001b[39m+\u001b[39m\u001b[39m=\u001b[39m calculer_distance(coord_chemin[point], coord_chemin[point\u001b[39m-\u001b[39;49m\u001b[39m1\u001b[39;49m])\n\u001b[1;32m     <a href='vscode-notebook-cell:/Users/thomasdulompont/Desktop/Python_trainning/algo/arbre.ipynb#X10sZmlsZQ%3D%3D?line=10'>11</a>\u001b[0m \u001b[39mreturn\u001b[39;00m distance_chemin\n",
      "\u001b[1;32m/Users/thomasdulompont/Desktop/Python_trainning/algo/arbre.ipynb Cellule 10\u001b[0m in \u001b[0;36mcalculer_distance\u001b[0;34m(point_A, point_B)\u001b[0m\n\u001b[1;32m      <a href='vscode-notebook-cell:/Users/thomasdulompont/Desktop/Python_trainning/algo/arbre.ipynb#X10sZmlsZQ%3D%3D?line=0'>1</a>\u001b[0m \u001b[39mdef\u001b[39;00m \u001b[39mcalculer_distance\u001b[39m(point_A, point_B):\n\u001b[1;32m      <a href='vscode-notebook-cell:/Users/thomasdulompont/Desktop/Python_trainning/algo/arbre.ipynb#X10sZmlsZQ%3D%3D?line=1'>2</a>\u001b[0m     \u001b[39m\"\"\"\u001b[39;00m\n\u001b[1;32m      <a href='vscode-notebook-cell:/Users/thomasdulompont/Desktop/Python_trainning/algo/arbre.ipynb#X10sZmlsZQ%3D%3D?line=2'>3</a>\u001b[0m \u001b[39m    Fonction qui calcule une distance euclidienne\u001b[39;00m\n\u001b[1;32m      <a href='vscode-notebook-cell:/Users/thomasdulompont/Desktop/Python_trainning/algo/arbre.ipynb#X10sZmlsZQ%3D%3D?line=3'>4</a>\u001b[0m \u001b[39m    : param point_A (tuple) : Coordonnées x, y du premier point\u001b[39;00m\n\u001b[1;32m      <a href='vscode-notebook-cell:/Users/thomasdulompont/Desktop/Python_trainning/algo/arbre.ipynb#X10sZmlsZQ%3D%3D?line=4'>5</a>\u001b[0m \u001b[39m    : param point_B (tuple) : Coordonnées x, y du deuxième point\u001b[39;00m\n\u001b[1;32m      <a href='vscode-notebook-cell:/Users/thomasdulompont/Desktop/Python_trainning/algo/arbre.ipynb#X10sZmlsZQ%3D%3D?line=5'>6</a>\u001b[0m \u001b[39m    : return (float) : Distance\u001b[39;00m\n\u001b[1;32m      <a href='vscode-notebook-cell:/Users/thomasdulompont/Desktop/Python_trainning/algo/arbre.ipynb#X10sZmlsZQ%3D%3D?line=6'>7</a>\u001b[0m \u001b[39m    \"\"\"\u001b[39;00m\n\u001b[0;32m----> <a href='vscode-notebook-cell:/Users/thomasdulompont/Desktop/Python_trainning/algo/arbre.ipynb#X10sZmlsZQ%3D%3D?line=7'>8</a>\u001b[0m     \u001b[39mreturn\u001b[39;00m \u001b[39mint\u001b[39m(sqrt((point_A[\u001b[39m0\u001b[39;49m] \u001b[39m-\u001b[39m point_B[\u001b[39m0\u001b[39m])\u001b[39m*\u001b[39m\u001b[39m*\u001b[39m\u001b[39m2\u001b[39m \u001b[39m+\u001b[39m (point_A[\u001b[39m1\u001b[39m] \u001b[39m-\u001b[39m point_B[\u001b[39m1\u001b[39m])\u001b[39m*\u001b[39m\u001b[39m*\u001b[39m\u001b[39m2\u001b[39m))\n",
      "\u001b[0;31mTypeError\u001b[0m: 'int' object is not subscriptable"
     ]
    }
   ],
   "source": [
    "mon_arbre = creer_arbre(points)\n",
    "\n",
    "chemins = creer_liste_chemins(mon_arbre)\n",
    "\n",
    "classement_chemin(chemins, coord_chemins)\n"
   ]
  }
 ],
 "metadata": {
  "kernelspec": {
   "display_name": "Python 3.9.13 ('base')",
   "language": "python",
   "name": "python3"
  },
  "language_info": {
   "codemirror_mode": {
    "name": "ipython",
    "version": 3
   },
   "file_extension": ".py",
   "mimetype": "text/x-python",
   "name": "python",
   "nbconvert_exporter": "python",
   "pygments_lexer": "ipython3",
   "version": "3.9.13"
  },
  "orig_nbformat": 4,
  "vscode": {
   "interpreter": {
    "hash": "1596c6b9dbb35d779c934f15dc66093d022de10751e6f293f3995b2f249e3c2a"
   }
  }
 },
 "nbformat": 4,
 "nbformat_minor": 2
}
