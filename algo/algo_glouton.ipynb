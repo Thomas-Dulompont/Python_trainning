{
 "cells": [
  {
   "cell_type": "code",
   "execution_count": 29,
   "metadata": {},
   "outputs": [],
   "source": [
    "def algo_glouton(entree: float):\n",
    "    \"\"\"\n",
    "    Fonction qui nous retourne la monnaie à rendre\n",
    "    : param entree (float) : La somme totale à rendre\n",
    "    : return monnaie_a_rendre (dict) : La monnaie à rendre\n",
    "    \"\"\"\n",
    "    # Tableau en integer car si on utilise float les arrondis ne sont pas corrects\n",
    "    centimes = [1, 2, 5, 10, 20, 50, 100, 200, 500, 1000, 2000, 5000, 10000]\n",
    "    centimes.reverse()\n",
    "\n",
    "    # Convertis les float en integer (1e = 100 centimes)\n",
    "    entree = int(entree * 100)\n",
    "\n",
    "    tours = 0\n",
    "    monnaie_a_rendre = {}\n",
    "    while entree > 0:\n",
    "        if centimes[tours] > entree:\n",
    "            tours += 1\n",
    "        else:\n",
    "            entree -= centimes[tours]\n",
    "            #Convertis en euros\n",
    "            monnaie = float(centimes[tours] / 100)\n",
    "            if monnaie in monnaie_a_rendre:\n",
    "                monnaie_a_rendre[monnaie] += 1\n",
    "            else:\n",
    "                monnaie_a_rendre[monnaie] = 1\n",
    "    \n",
    "    return monnaie_a_rendre"
   ]
  },
  {
   "cell_type": "code",
   "execution_count": 30,
   "metadata": {},
   "outputs": [
    {
     "name": "stdout",
     "output_type": "stream",
     "text": [
      "{100.0: 20, 50.0: 1, 20.0: 1, 10.0: 1, 0.5: 1, 0.2: 1, 0.1: 1, 0.02: 1, 0.01: 1}\n"
     ]
    }
   ],
   "source": [
    "print(algo_glouton(2080.83))"
   ]
  }
 ],
 "metadata": {
  "kernelspec": {
   "display_name": "Python 3.9.13 ('base')",
   "language": "python",
   "name": "python3"
  },
  "language_info": {
   "codemirror_mode": {
    "name": "ipython",
    "version": 3
   },
   "file_extension": ".py",
   "mimetype": "text/x-python",
   "name": "python",
   "nbconvert_exporter": "python",
   "pygments_lexer": "ipython3",
   "version": "3.9.13"
  },
  "orig_nbformat": 4,
  "vscode": {
   "interpreter": {
    "hash": "1596c6b9dbb35d779c934f15dc66093d022de10751e6f293f3995b2f249e3c2a"
   }
  }
 },
 "nbformat": 4,
 "nbformat_minor": 2
}
