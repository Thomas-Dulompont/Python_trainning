{
 "cells": [
  {
   "cell_type": "code",
   "execution_count": 1,
   "metadata": {},
   "outputs": [],
   "source": [
    "import math\n",
    "import random\n",
    "\n",
    "random.seed(123)"
   ]
  },
  {
   "cell_type": "code",
   "execution_count": 2,
   "metadata": {},
   "outputs": [
    {
     "name": "stdout",
     "output_type": "stream",
     "text": [
      "8\n"
     ]
    }
   ],
   "source": [
    "# nb_points = 8\n",
    "# liste_points = [(random.randint(-1000, 1000), random.randint(-1000, 1000)) for _ in range(nb_points)]\n",
    "\n",
    "liste_points = [(618, -854),(756, 28),(-546, 247),(494, 72),(-300, 785),(-75, 809),(469, -810),(-606, 182)]\n",
    "\n",
    "print(len(liste_points))"
   ]
  },
  {
   "cell_type": "code",
   "execution_count": 3,
   "metadata": {},
   "outputs": [],
   "source": [
    "def calculer_distance(point_A, point_B):\n",
    "    \"\"\"\n",
    "    Fonction qui calcule une distance euclidienne\n",
    "    : param point_A (tuple) : Coordonnées x, y du premier point\n",
    "    : param point_B (tuple) : Coordonnées x, y du deuxième point\n",
    "    : return (float) : Distance\n",
    "    \"\"\"\n",
    "    return math.sqrt((point_A[0] - point_B[0])**2 + (point_A[1] - point_B[1])**2)"
   ]
  },
  {
   "cell_type": "code",
   "execution_count": 4,
   "metadata": {},
   "outputs": [],
   "source": [
    "def calculer_distance_chemin(chemin, coord):\n",
    "    \"\"\"\n",
    "    Fonction qui calcule la distance totale d'un chemin\n",
    "    : param chemins (list) : Liste de points\n",
    "    : param coord (list) : Coordonnées des points\n",
    "    : return (float) : Distance totale du chemin\n",
    "    \"\"\"\n",
    "    dist = 0\n",
    "    for index in range(len(chemin) -1):\n",
    "        dist += calculer_distance(coord[chemin[index]], coord[chemin[index+1]])\n",
    "    return dist\n"
   ]
  },
  {
   "cell_type": "code",
   "execution_count": 5,
   "metadata": {},
   "outputs": [],
   "source": [
    "class Algo_genetique():\n",
    "    def __init__(self, liste_points, nb_gen) -> None:\n",
    "        self.chemins = []\n",
    "        self.liste_points = liste_points\n",
    "        self.nb_points = len(liste_points)\n",
    "        self.nb_gen = nb_gen\n",
    "    \n",
    "    def generer_chemins(self):\n",
    "        \"\"\"\n",
    "        Méthode qui génère le nombre de chemin en fonction du nb_gen renseigner sur l'instance\n",
    "        \"\"\"\n",
    "        for essai in range(self.nb_gen):\n",
    "            chemin = [i for i in range(1, self.nb_points)]\n",
    "            random.shuffle(chemin)\n",
    "            chemin.insert(0, 0)\n",
    "            dico = {\n",
    "                \"chemin\" : chemin,\n",
    "                \"score\" : None\n",
    "            }\n",
    "            self.chemins.append(dico)\n",
    "    \n",
    "    def evaluer(self):\n",
    "        \"\"\"\n",
    "        Méthode qui ajoute le score des chemins\n",
    "        \"\"\"\n",
    "        for chemin in self.chemins:\n",
    "            chemin[\"score\"] = calculer_distance_chemin(chemin[\"chemin\"], self.liste_points)\n",
    "    \n",
    "    def selectionner(self):\n",
    "        \"\"\"\n",
    "        Méthode qui garde les 33% meilleurs chemins\n",
    "        \"\"\"\n",
    "        # Trier\n",
    "        self.chemins.sort(key=lambda chemin:chemin[\"score\"])\n",
    "        # Selectionner Tier des meilleurs\n",
    "        self.chemins = self.chemins[0: len(self.chemins) //3]\n",
    "\n",
    "    def croisement_mutation(self):\n",
    "        \"\"\"\n",
    "        Méthode qui génère de nouveaux chemins en fusionnant deux chemins différents\n",
    "        \"\"\"\n",
    "        tour = 0\n",
    "        while self.nb_gen != len(self.chemins):\n",
    "            chemin1 = self.chemins[tour][\"chemin\"][0: len(self.chemins[tour][\"chemin\"]) // 2]\n",
    "            chemin2 = self.chemins[tour+1][\"chemin\"]\n",
    "\n",
    "            chemin3 = {\n",
    "                \"chemin\" : chemin1,\n",
    "                \"score\" : None\n",
    "            }\n",
    "            for point in chemin2:\n",
    "                if point not in chemin1:\n",
    "                    chemin3[\"chemin\"].append(point)\n",
    "\n",
    "            self.chemins.append(chemin3)\n",
    "            tour += 1\n",
    "    \n",
    "    def meilleur_chemin(self):\n",
    "        \"\"\"\n",
    "        Méthode qui permet de connaître le meilleur chemin\n",
    "        : return (str) : Le message avec le meilleur chemin\n",
    "        \"\"\"\n",
    "        self.evaluer()\n",
    "        meilleur_chemin = self.chemins[0]\n",
    "        message = \"Le Meilleur chemin à prendre est {} (Score : {})\".format(meilleur_chemin[\"chemin\"], meilleur_chemin[\"score\"])\n",
    "        return message\n",
    "\n"
   ]
  },
  {
   "cell_type": "code",
   "execution_count": 6,
   "metadata": {},
   "outputs": [
    {
     "name": "stdout",
     "output_type": "stream",
     "text": [
      "Le Meilleur chemin à prendre est [0, 6, 1, 3, 5, 4, 2, 7] (Score : 3144.214009972183)\n"
     ]
    }
   ],
   "source": [
    "test = Algo_genetique(liste_points, 150)\n",
    "test.generer_chemins()\n",
    "# 1\n",
    "test.evaluer()\n",
    "test.selectionner()\n",
    "test.croisement_mutation()\n",
    "\n",
    "# 2\n",
    "test.evaluer()\n",
    "test.selectionner()\n",
    "test.croisement_mutation()\n",
    "\n",
    "# 3\n",
    "test.evaluer()\n",
    "test.selectionner()\n",
    "test.croisement_mutation()\n",
    "\n",
    "# Final\n",
    "print(test.meilleur_chemin())"
   ]
  }
 ],
 "metadata": {
  "kernelspec": {
   "display_name": "Python 3.9.13 ('base')",
   "language": "python",
   "name": "python3"
  },
  "language_info": {
   "codemirror_mode": {
    "name": "ipython",
    "version": 3
   },
   "file_extension": ".py",
   "mimetype": "text/x-python",
   "name": "python",
   "nbconvert_exporter": "python",
   "pygments_lexer": "ipython3",
   "version": "3.9.13"
  },
  "orig_nbformat": 4,
  "vscode": {
   "interpreter": {
    "hash": "1596c6b9dbb35d779c934f15dc66093d022de10751e6f293f3995b2f249e3c2a"
   }
  }
 },
 "nbformat": 4,
 "nbformat_minor": 2
}
