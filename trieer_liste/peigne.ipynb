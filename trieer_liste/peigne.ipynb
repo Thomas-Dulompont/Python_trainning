{
 "cells": [
  {
   "cell_type": "code",
   "execution_count": 10,
   "metadata": {},
   "outputs": [],
   "source": [
    "from random import randint"
   ]
  },
  {
   "cell_type": "code",
   "execution_count": 11,
   "metadata": {},
   "outputs": [],
   "source": [
    "liste_triee = [i for i in range(1000000)]\n",
    "\n",
    "liste = [randint(1, 100) for i in range(1000000)]\n"
   ]
  },
  {
   "cell_type": "code",
   "execution_count": null,
   "metadata": {},
   "outputs": [],
   "source": [
    "\n",
    "def fusion(liste1, liste2):\n",
    "    \"\"\"\n",
    "    Fonction qui fusionne les deux liste, en comparant chaques éléments\n",
    "    : param liste1 (list) : Moitié de liste\n",
    "    : param liste2 (list) : Deuxième moitié de liste\n",
    "    : return (list) : Liste assemblée\n",
    "    \"\"\"\n",
    "    result = []\n",
    "    len_liste1 = len(liste1)\n",
    "    len_liste2 = len(liste2)\n",
    "    a = 0\n",
    "    b = 0\n",
    "    while len(result) < len_liste1 + len_liste2:\n",
    "        if liste1[a] > liste2[b]:\n",
    "            result.append(liste2[b])\n",
    "            b += 1\n",
    "            if b == len_liste2:\n",
    "                result += liste1[a:]\n",
    "        else:\n",
    "            result.append(liste1[a])\n",
    "            a +=1\n",
    "            if a == len_liste1:\n",
    "                result += liste2[b:]\n",
    "    return result\n",
    "\n",
    "\n",
    "def tri_fusion(liste):\n",
    "    \"\"\"\n",
    "    Fonction qui découpe une liste en deux\n",
    "    : param liste (list) :  Liste à découper\n",
    "    \"\"\"\n",
    "    if len(liste) == 1:\n",
    "        return liste\n",
    "    return fusion(tri_fusion(liste[:len(liste) // 2]), tri_fusion(liste[len(liste) // 2:]))\n",
    "\n",
    "tri_fusion(liste)"
   ]
  }
 ],
 "metadata": {
  "kernelspec": {
   "display_name": "Python 3.9.13 ('base')",
   "language": "python",
   "name": "python3"
  },
  "language_info": {
   "codemirror_mode": {
    "name": "ipython",
    "version": 3
   },
   "file_extension": ".py",
   "mimetype": "text/x-python",
   "name": "python",
   "nbconvert_exporter": "python",
   "pygments_lexer": "ipython3",
   "version": "3.9.13"
  },
  "orig_nbformat": 4,
  "vscode": {
   "interpreter": {
    "hash": "1596c6b9dbb35d779c934f15dc66093d022de10751e6f293f3995b2f249e3c2a"
   }
  }
 },
 "nbformat": 4,
 "nbformat_minor": 2
}
