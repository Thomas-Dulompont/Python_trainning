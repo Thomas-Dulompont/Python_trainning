{
 "cells": [
  {
   "cell_type": "code",
   "execution_count": 1,
   "metadata": {},
   "outputs": [],
   "source": [
    "from random import randint"
   ]
  },
  {
   "cell_type": "code",
   "execution_count": 2,
   "metadata": {},
   "outputs": [],
   "source": [
    "liste_triee = [i for i in range(1000000)]\n",
    "\n",
    "liste = [randint(1, 100) for i in range(10000)]"
   ]
  },
  {
   "cell_type": "code",
   "execution_count": null,
   "metadata": {},
   "outputs": [],
   "source": [
    "for i in range(len(liste)):\n",
    "    for select in range(0, len(liste)-i-1):\n",
    "        # Véirifie si le chiffre select est plus grand que le prochain dans la liste\n",
    "        if liste[select] > liste[select +1]:\n",
    "            # Si il est plus grand alors on le déplace\n",
    "            liste[select], liste[select+1] = liste[select+1], liste[select]\n",
    "\n",
    "print(liste)"
   ]
  }
 ],
 "metadata": {
  "kernelspec": {
   "display_name": "Python 3.9.13 ('base')",
   "language": "python",
   "name": "python3"
  },
  "language_info": {
   "codemirror_mode": {
    "name": "ipython",
    "version": 3
   },
   "file_extension": ".py",
   "mimetype": "text/x-python",
   "name": "python",
   "nbconvert_exporter": "python",
   "pygments_lexer": "ipython3",
   "version": "3.9.13"
  },
  "orig_nbformat": 4,
  "vscode": {
   "interpreter": {
    "hash": "1596c6b9dbb35d779c934f15dc66093d022de10751e6f293f3995b2f249e3c2a"
   }
  }
 },
 "nbformat": 4,
 "nbformat_minor": 2
}
